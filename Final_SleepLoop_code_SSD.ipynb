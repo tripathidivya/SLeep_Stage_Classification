{
 "cells": [
  {
   "cell_type": "code",
   "execution_count": 1,
   "metadata": {
    "pycharm": {
     "name": "#%%\n"
    }
   },
   "outputs": [
    {
     "name": "stdout",
     "output_type": "stream",
     "text": [
      "Defaulting to user installation because normal site-packages is not writeable\n",
      "Requirement already satisfied: pip in /home/omi/.local/lib/python3.8/site-packages (22.3.1)\n"
     ]
    }
   ],
   "source": [
    "!python -m pip install --upgrade pip"
   ]
  },
  {
   "cell_type": "code",
   "execution_count": 2,
   "metadata": {
    "pycharm": {
     "name": "#%%\n"
    }
   },
   "outputs": [
    {
     "name": "stdout",
     "output_type": "stream",
     "text": [
      "Defaulting to user installation because normal site-packages is not writeable\n",
      "Collecting numpy==1.19.2\n",
      "  Downloading numpy-1.19.2-cp38-cp38-manylinux2010_x86_64.whl (14.5 MB)\n",
      "\u001B[2K     \u001B[90m━━━━━━━━━━━━━━━━━━━━━━━━━━━━━━━━━━━━━━━━\u001B[0m \u001B[32m14.5/14.5 MB\u001B[0m \u001B[31m94.4 MB/s\u001B[0m eta \u001B[36m0:00:00\u001B[0m00:01\u001B[0m00:01\u001B[0m\n",
      "\u001B[?25hInstalling collected packages: numpy\n",
      "\u001B[33m  WARNING: The scripts f2py, f2py3 and f2py3.8 are installed in '/home/omi/.local/bin' which is not on PATH.\n",
      "  Consider adding this directory to PATH or, if you prefer to suppress this warning, use --no-warn-script-location.\u001B[0m\u001B[33m\n",
      "\u001B[0mSuccessfully installed numpy-1.19.2\n"
     ]
    }
   ],
   "source": [
    "!pip install numpy==1.19.2"
   ]
  },
  {
   "cell_type": "code",
   "execution_count": 3,
   "metadata": {
    "pycharm": {
     "name": "#%%\n"
    }
   },
   "outputs": [
    {
     "name": "stdout",
     "output_type": "stream",
     "text": [
      "Defaulting to user installation because normal site-packages is not writeable\n",
      "Collecting sklearn\n",
      "  Downloading sklearn-0.0.post1.tar.gz (3.6 kB)\n",
      "  Preparing metadata (setup.py) ... \u001B[?25ldone\n",
      "\u001B[?25hBuilding wheels for collected packages: sklearn\n",
      "  Building wheel for sklearn (setup.py) ... \u001B[?25ldone\n",
      "\u001B[?25h  Created wheel for sklearn: filename=sklearn-0.0.post1-py3-none-any.whl size=2344 sha256=cc6694f9a9d576f3187b068d770cdc385a52f2ea39265fbf30e5e6ffd715687a\n",
      "  Stored in directory: /home/omi/.cache/pip/wheels/1c/2f/26/476423e3abcbdc095c9061b4a385339f4d5c4952c036ef8262\n",
      "Successfully built sklearn\n",
      "Installing collected packages: sklearn\n",
      "Successfully installed sklearn-0.0.post1\n",
      "Defaulting to user installation because normal site-packages is not writeable\n",
      "Collecting Minio\n",
      "  Downloading minio-7.1.12-py3-none-any.whl (76 kB)\n",
      "\u001B[2K     \u001B[90m━━━━━━━━━━━━━━━━━━━━━━━━━━━━━━━━━━━━━━━━\u001B[0m \u001B[32m76.2/76.2 kB\u001B[0m \u001B[31m6.0 MB/s\u001B[0m eta \u001B[36m0:00:00\u001B[0m\n",
      "\u001B[?25hRequirement already satisfied: certifi in /usr/lib/python3/dist-packages (from Minio) (2019.11.28)\n",
      "Requirement already satisfied: urllib3 in /usr/lib/python3/dist-packages (from Minio) (1.25.8)\n",
      "Installing collected packages: Minio\n",
      "Successfully installed Minio-7.1.12\n",
      "Defaulting to user installation because normal site-packages is not writeable\n",
      "Collecting scipy\n",
      "  Downloading scipy-1.9.3-cp38-cp38-manylinux_2_17_x86_64.manylinux2014_x86_64.whl (33.8 MB)\n",
      "\u001B[2K     \u001B[90m━━━━━━━━━━━━━━━━━━━━━━━━━━━━━━━━━━━━━━━━\u001B[0m \u001B[32m33.8/33.8 MB\u001B[0m \u001B[31m68.3 MB/s\u001B[0m eta \u001B[36m0:00:00\u001B[0m00:01\u001B[0m00:01\u001B[0m\n",
      "\u001B[?25hRequirement already satisfied: numpy<1.26.0,>=1.18.5 in /home/omi/.local/lib/python3.8/site-packages (from scipy) (1.19.2)\n",
      "Installing collected packages: scipy\n",
      "Successfully installed scipy-1.9.3\n",
      "Defaulting to user installation because normal site-packages is not writeable\n",
      "Collecting seaborn\n",
      "  Downloading seaborn-0.12.1-py3-none-any.whl (288 kB)\n",
      "\u001B[2K     \u001B[90m━━━━━━━━━━━━━━━━━━━━━━━━━━━━━━━━━━━━━━━\u001B[0m \u001B[32m288.2/288.2 kB\u001B[0m \u001B[31m9.9 MB/s\u001B[0m eta \u001B[36m0:00:00\u001B[0m\n",
      "\u001B[?25hRequirement already satisfied: matplotlib!=3.6.1,>=3.1 in /usr/local/lib/python3.8/dist-packages (from seaborn) (3.4.3)\n",
      "Collecting pandas>=0.25\n",
      "  Downloading pandas-1.5.2-cp38-cp38-manylinux_2_17_x86_64.manylinux2014_x86_64.whl (12.2 MB)\n",
      "\u001B[2K     \u001B[90m━━━━━━━━━━━━━━━━━━━━━━━━━━━━━━━━━━━━━━━\u001B[0m \u001B[32m12.2/12.2 MB\u001B[0m \u001B[31m110.4 MB/s\u001B[0m eta \u001B[36m0:00:00\u001B[0m00:01\u001B[0m00:01\u001B[0m\n",
      "\u001B[?25hRequirement already satisfied: numpy>=1.17 in /home/omi/.local/lib/python3.8/site-packages (from seaborn) (1.19.2)\n",
      "Requirement already satisfied: pyparsing>=2.2.1 in /usr/local/lib/python3.8/dist-packages (from matplotlib!=3.6.1,>=3.1->seaborn) (2.4.7)\n",
      "Requirement already satisfied: pillow>=6.2.0 in /usr/local/lib/python3.8/dist-packages (from matplotlib!=3.6.1,>=3.1->seaborn) (8.4.0)\n",
      "Requirement already satisfied: cycler>=0.10 in /usr/local/lib/python3.8/dist-packages (from matplotlib!=3.6.1,>=3.1->seaborn) (0.11.0)\n",
      "Requirement already satisfied: kiwisolver>=1.0.1 in /usr/local/lib/python3.8/dist-packages (from matplotlib!=3.6.1,>=3.1->seaborn) (1.3.2)\n",
      "Requirement already satisfied: python-dateutil>=2.7 in /usr/local/lib/python3.8/dist-packages (from matplotlib!=3.6.1,>=3.1->seaborn) (2.8.2)\n",
      "Collecting numpy>=1.17\n",
      "  Downloading numpy-1.23.5-cp38-cp38-manylinux_2_17_x86_64.manylinux2014_x86_64.whl (17.1 MB)\n",
      "\u001B[2K     \u001B[90m━━━━━━━━━━━━━━━━━━━━━━━━━━━━━━━━━━━━━━━\u001B[0m \u001B[32m17.1/17.1 MB\u001B[0m \u001B[31m105.6 MB/s\u001B[0m eta \u001B[36m0:00:00\u001B[0m00:01\u001B[0m00:01\u001B[0m\n",
      "\u001B[?25hRequirement already satisfied: pytz>=2020.1 in /usr/local/lib/python3.8/dist-packages (from pandas>=0.25->seaborn) (2021.3)\n",
      "Requirement already satisfied: six>=1.5 in /usr/local/lib/python3.8/dist-packages (from python-dateutil>=2.7->matplotlib!=3.6.1,>=3.1->seaborn) (1.15.0)\n",
      "Installing collected packages: numpy, pandas, seaborn\n",
      "  Attempting uninstall: numpy\n",
      "    Found existing installation: numpy 1.19.2\n",
      "    Uninstalling numpy-1.19.2:\n",
      "      Successfully uninstalled numpy-1.19.2\n",
      "\u001B[33m  WARNING: The scripts f2py, f2py3 and f2py3.8 are installed in '/home/omi/.local/bin' which is not on PATH.\n",
      "  Consider adding this directory to PATH or, if you prefer to suppress this warning, use --no-warn-script-location.\u001B[0m\u001B[33m\n",
      "\u001B[0m\u001B[31mERROR: pip's dependency resolver does not currently take into account all the packages that are installed. This behaviour is the source of the following dependency conflicts.\n",
      "tensorflow 2.6.1 requires numpy~=1.19.2, but you have numpy 1.23.5 which is incompatible.\u001B[0m\u001B[31m\n",
      "\u001B[0mSuccessfully installed numpy-1.23.5 pandas-1.5.2 seaborn-0.12.1\n",
      "Defaulting to user installation because normal site-packages is not writeable\n",
      "Collecting scikit-learn\n",
      "  Downloading scikit_learn-1.1.3-cp38-cp38-manylinux_2_17_x86_64.manylinux2014_x86_64.whl (31.2 MB)\n",
      "\u001B[2K     \u001B[90m━━━━━━━━━━━━━━━━━━━━━━━━━━━━━━━━━━━━━━━━\u001B[0m \u001B[32m31.2/31.2 MB\u001B[0m \u001B[31m88.3 MB/s\u001B[0m eta \u001B[36m0:00:00\u001B[0m00:01\u001B[0m00:01\u001B[0m\n",
      "\u001B[?25hRequirement already satisfied: scipy in /home/omi/.local/lib/python3.8/site-packages (1.9.3)\n",
      "Requirement already satisfied: matplotlib in /usr/local/lib/python3.8/dist-packages (3.4.3)\n",
      "Collecting matplotlib\n",
      "  Downloading matplotlib-3.6.2-cp38-cp38-manylinux_2_12_x86_64.manylinux2010_x86_64.whl (9.4 MB)\n",
      "\u001B[2K     \u001B[90m━━━━━━━━━━━━━━━━━━━━━━━━━━━━━━━━━━━━━━━━\u001B[0m \u001B[32m9.4/9.4 MB\u001B[0m \u001B[31m141.2 MB/s\u001B[0m eta \u001B[36m0:00:00\u001B[0ma \u001B[36m0:00:01\u001B[0m\n",
      "\u001B[?25hRequirement already satisfied: numpy>=1.17.3 in /home/omi/.local/lib/python3.8/site-packages (from scikit-learn) (1.23.5)\n",
      "Collecting joblib>=1.0.0\n",
      "  Downloading joblib-1.2.0-py3-none-any.whl (297 kB)\n",
      "\u001B[2K     \u001B[90m━━━━━━━━━━━━━━━━━━━━━━━━━━━━━━━━━━━━━━\u001B[0m \u001B[32m298.0/298.0 kB\u001B[0m \u001B[31m49.4 MB/s\u001B[0m eta \u001B[36m0:00:00\u001B[0m\n",
      "\u001B[?25hCollecting threadpoolctl>=2.0.0\n",
      "  Downloading threadpoolctl-3.1.0-py3-none-any.whl (14 kB)\n",
      "Requirement already satisfied: python-dateutil>=2.7 in /usr/local/lib/python3.8/dist-packages (from matplotlib) (2.8.2)\n",
      "Requirement already satisfied: kiwisolver>=1.0.1 in /usr/local/lib/python3.8/dist-packages (from matplotlib) (1.3.2)\n",
      "Requirement already satisfied: pillow>=6.2.0 in /usr/local/lib/python3.8/dist-packages (from matplotlib) (8.4.0)\n",
      "Requirement already satisfied: pyparsing>=2.2.1 in /usr/local/lib/python3.8/dist-packages (from matplotlib) (2.4.7)\n",
      "Requirement already satisfied: cycler>=0.10 in /usr/local/lib/python3.8/dist-packages (from matplotlib) (0.11.0)\n",
      "Collecting fonttools>=4.22.0\n",
      "  Downloading fonttools-4.38.0-py3-none-any.whl (965 kB)\n",
      "\u001B[2K     \u001B[90m━━━━━━━━━━━━━━━━━━━━━━━━━━━━━━━━━━━━━\u001B[0m \u001B[32m965.4/965.4 kB\u001B[0m \u001B[31m105.9 MB/s\u001B[0m eta \u001B[36m0:00:00\u001B[0m\n",
      "\u001B[?25hCollecting contourpy>=1.0.1\n",
      "  Downloading contourpy-1.0.6-cp38-cp38-manylinux_2_17_x86_64.manylinux2014_x86_64.whl (295 kB)\n",
      "\u001B[2K     \u001B[90m━━━━━━━━━━━━━━━━━━━━━━━━━━━━━━━━━━━━━━\u001B[0m \u001B[32m296.0/296.0 kB\u001B[0m \u001B[31m53.2 MB/s\u001B[0m eta \u001B[36m0:00:00\u001B[0m\n",
      "\u001B[?25hRequirement already satisfied: packaging>=20.0 in /usr/local/lib/python3.8/dist-packages (from matplotlib) (21.2)\n",
      "Requirement already satisfied: six>=1.5 in /usr/local/lib/python3.8/dist-packages (from python-dateutil>=2.7->matplotlib) (1.15.0)\n",
      "Installing collected packages: threadpoolctl, joblib, fonttools, contourpy, scikit-learn, matplotlib\n",
      "\u001B[33m  WARNING: The scripts fonttools, pyftmerge, pyftsubset and ttx are installed in '/home/omi/.local/bin' which is not on PATH.\n",
      "  Consider adding this directory to PATH or, if you prefer to suppress this warning, use --no-warn-script-location.\u001B[0m\u001B[33m\n",
      "\u001B[0mSuccessfully installed contourpy-1.0.6 fonttools-4.38.0 joblib-1.2.0 matplotlib-3.6.2 scikit-learn-1.1.3 threadpoolctl-3.1.0\n"
     ]
    }
   ],
   "source": [
    "!pip install sklearn\n",
    "!pip install Minio\n",
    "!pip install scipy\n",
    "!pip install seaborn\n",
    "!pip3 install -U scikit-learn scipy matplotlib"
   ]
  },
  {
   "cell_type": "code",
   "execution_count": 4,
   "metadata": {
    "pycharm": {
     "name": "#%%\n"
    }
   },
   "outputs": [],
   "source": [
    "from minio import Minio\n",
    "import scipy.io\n",
    "import numpy as np\n",
    "import os\n",
    "import keras\n",
    "import tensorflow as tf\n",
    "from pathlib import Path\n",
    "from sklearn.metrics import plot_confusion_matrix\n",
    "from matplotlib import pyplot as plt\n",
    "from sklearn.utils.class_weight import compute_class_weight"
   ]
  },
  {
   "cell_type": "code",
   "execution_count": null,
   "outputs": [],
   "source": [
    "#Access the data stored in the hard drive\n",
    "dataFolder = \"E:/Luzius_ML_allWESAdata_hybrid/\""
   ],
   "metadata": {
    "collapsed": false,
    "pycharm": {
     "name": "#%%\n"
    }
   }
  },
  {
   "cell_type": "code",
   "execution_count": 5,
   "metadata": {
    "pycharm": {
     "name": "#%%\n"
    }
   },
   "outputs": [],
   "source": [
    "# Declaration of an empty list for data train/valid/test\n",
    "EEG_training_data = np.array([])\n",
    "EEG_validation_data = np.array([])\n",
    "EEG_testing_data = np.array([])\n",
    "\n",
    "# Declaration of an empty list for labels train/valid/test\n",
    "EEG_training_label = []\n",
    "EEG_validation_label = []\n",
    "EEG_testing_label = []\n",
    "\n",
    "# Declaration of the variable for type of data: train/validate/test\n",
    "state = None\n",
    "\n",
    "# Declaration of the other variables\n",
    "subject_list= []\n",
    "new_subject_list= []\n",
    "\n",
    "train_subject_list = []\n",
    "valid_subject_list = []\n",
    "test_subject_list = []\n",
    "\n",
    "#Variable declaration for different counters\n",
    "count_labels_with4 = 0\n",
    "total_files_with_incorrect_label4 = 0\n",
    "count_new_label_detected = 0"
   ]
  },
  {
   "cell_type": "code",
   "execution_count": 6,
   "metadata": {
    "pycharm": {
     "name": "#%%\n"
    }
   },
   "outputs": [
    {
     "name": "stdout",
     "output_type": "stream",
     "text": [
      "bmt bucket exists: True\n"
     ]
    }
   ],
   "source": [
    "# client = Minio(\n",
    "#          \"134.60.30.14:30900\",\n",
    "#          access_key=\"bmt\",\n",
    "#          secret_key=\"wwU4HwPccTkSvPlXxoyHnI4W\",\n",
    "#          secure=False,\n",
    "#      )\n",
    "# print(f\"bmt bucket exists: {client.bucket_exists('bmt')}\")"
   ]
  },
  {
   "cell_type": "code",
   "execution_count": 7,
   "metadata": {
    "pycharm": {
     "name": "#%%\n"
    }
   },
   "outputs": [
    {
     "name": "stdout",
     "output_type": "stream",
     "text": [
      "total number of subject folders are 24\n"
     ]
    }
   ],
   "source": [
    "# # List all object paths in bucket.\n",
    "# objects = client.list_objects('bmt', prefix=\"data/WESA/S0\")#, recursive=True,)\n",
    "# for obj in objects:\n",
    "#     #print(obj.object_name)\n",
    "#     subjects = obj.object_name\n",
    "#     subject_list.append(subjects)\n",
    "#     continue\n",
    "#\n",
    "#\n",
    "#\n",
    "# count = obj.object_name\n",
    "# #print(subject_list)\n",
    "# subject_list_len = len(subject_list)\n",
    "# print(\"total number of subject folders are\", subject_list_len)"
   ]
  },
  {
   "cell_type": "code",
   "execution_count": null,
   "outputs": [],
   "source": [
    "#Function to rotate the array and access the element one by one in rotation\n",
    "def rotated_List_array(list_of_arr, rotation_by, length_of_arrayy):\n",
    "    list_of_arr[:] = list_of_arr[rotation_by:length_of_arrayy]+list_of_arr[0:rotation_by]\n",
    "    return list_of_arr\n",
    "\n",
    "#search total number of folders inside the sleep data\n",
    "subject_list = [f for f in os.listdir(dataFolder) if f.startswith('S0')]\n",
    "subject_list_len = len(subject_list)\n"
   ],
   "metadata": {
    "collapsed": false,
    "pycharm": {
     "name": "#%%\n"
    }
   }
  },
  {
   "cell_type": "code",
   "execution_count": 8,
   "metadata": {
    "pycharm": {
     "name": "#%%\n"
    }
   },
   "outputs": [],
   "source": [
    "# # here will be code to rotate/Shift subjects\n",
    "#total_subjects = subject_list_len\n",
    "# training_subjects_num = int(subject_list_len * 0.75)\n",
    "# validation_subjects_num = int(subject_list_len * 0.125)\n",
    "# testing_subjects_num = int(subject_list_len * 0.125)\n",
    "\n",
    "# here will be code to rotate/Shift subjects\n",
    "total_subjects = 24\n",
    "training_subjects_num = 18\n",
    "validation_subjects_num = 3\n",
    "testing_subjects_num = 3\n",
    "\n",
    "counter_val = 0\n",
    "counter_train = 0"
   ]
  },
  {
   "cell_type": "code",
   "execution_count": 9,
   "metadata": {
    "pycharm": {
     "name": "#%%\n"
    }
   },
   "outputs": [],
   "source": [
    "#Function to rotate the array and access the element one by one in rotation\n",
    "def rotated_List_array(list_of_arr, rotation_by, length_of_array):\n",
    "    #print(list_of_arr[rotation_by:length_of_array])\n",
    "    list_of_arr[:] = list_of_arr[rotation_by:length_of_array]+list_of_arr[0:rotation_by]\n",
    "\n",
    "    return list_of_arr\n",
    "\n",
    "for k in range(total_subjects):\n",
    "    temp_d = rotated_List_array(subject_list, 1, total_subjects)\n",
    "    \n",
    "    #np array of the list of subject\n",
    "    subject_list_nparray = np.array(temp_d)\n"
   ]
  },
  {
   "cell_type": "code",
   "execution_count": 10,
   "metadata": {
    "tags": [],
    "pycharm": {
     "name": "#%%\n"
    }
   },
   "outputs": [
    {
     "name": "stdout",
     "output_type": "stream",
     "text": [
      "['data/WESA/S004/' 'data/WESA/S005/' 'data/WESA/S006/' 'data/WESA/S008/'\n",
      " 'data/WESA/S011/' 'data/WESA/S015/' 'data/WESA/S016/' 'data/WESA/S021/'\n",
      " 'data/WESA/S025/' 'data/WESA/S027/' 'data/WESA/S029/' 'data/WESA/S030/'\n",
      " 'data/WESA/S032/' 'data/WESA/S033/' 'data/WESA/S036/' 'data/WESA/S037/'\n",
      " 'data/WESA/S039/' 'data/WESA/S040/']\n"
     ]
    }
   ],
   "source": [
    "    #assign subject list to train/validate/test\n",
    "    traindata_subjects = subject_list_nparray[:training_subjects_num]\n",
    "    print(traindata_subjects)\n",
    "    \n",
    "    # Find score file of each subject\n",
    "    for i in traindata_subjects:     \n",
    "        objects = client.list_objects('bmt', recursive=True, prefix=i,)\n",
    "        for obj in objects:\n",
    "            train_name = obj.object_name\n",
    "            subject = train_name[10:14]\n",
    "            scoredString = '_score'  # string to check in the name of mat file\n",
    "            if scoredString not in train_name:\n",
    "                continue\n",
    "            else: \n",
    "                # maintain a new list for train data to store all score file\n",
    "                train_subject_list.append(train_name)\n",
    "                #print(train_subject_list)\n",
    "     \n",
    "    # appending those stored trained file into subject list that we can use further for data seperation\n",
    "    new_subject_list= train_subject_list"
   ]
  },
  {
   "cell_type": "code",
   "execution_count": 11,
   "metadata": {
    "tags": [],
    "pycharm": {
     "name": "#%%\n"
    }
   },
   "outputs": [
    {
     "name": "stdout",
     "output_type": "stream",
     "text": [
      "['data/WESA/S041/' 'data/WESA/S042/' 'data/WESA/S043/']\n"
     ]
    }
   ],
   "source": [
    "    validatedata_subjects = subject_list_nparray[(training_subjects_num) :(training_subjects_num + (validation_subjects_num))]\n",
    "    print(validatedata_subjects)\n",
    "    \n",
    "    # Find score file of each subject\n",
    "    for i in validatedata_subjects:     \n",
    "        objects = client.list_objects('bmt', recursive=True, prefix=i,)\n",
    "        for obj in objects:\n",
    "            valid_name = obj.object_name\n",
    "            subject = valid_name[10:14]\n",
    "            scoredString = '_score'  # string to check in the name of mat file\n",
    "            if scoredString not in valid_name:\n",
    "                continue\n",
    "            else:\n",
    "                # maintain a new list for valid data to store all score file\n",
    "                valid_subject_list.append(valid_name)\n",
    "                #print(valid_subject_list)\n",
    "\n",
    "    # appending those stored valid file into subject list that we can use further for data seperation\n",
    "    new_subject_list = new_subject_list + valid_subject_list"
   ]
  },
  {
   "cell_type": "code",
   "execution_count": 12,
   "metadata": {
    "tags": [],
    "pycharm": {
     "name": "#%%\n"
    }
   },
   "outputs": [
    {
     "name": "stdout",
     "output_type": "stream",
     "text": [
      "['data/WESA/S053/' 'data/WESA/S058/' 'data/WESA/S059/']\n"
     ]
    }
   ],
   "source": [
    "    testdata_subjects = subject_list_nparray[(training_subjects_num + (validation_subjects_num)) :((training_subjects_num + (validation_subjects_num)) + (testing_subjects_num))]\n",
    "    print(testdata_subjects)\n",
    "\n",
    "    # Find score file of each subject\n",
    "    for i in testdata_subjects:     \n",
    "        objects = client.list_objects('bmt', recursive=True, prefix=i,)\n",
    "        for obj in objects:\n",
    "            test_name = obj.object_name\n",
    "            subject = test_name[10:14]\n",
    "            scoredString = '_score'  # string to check in the name of mat file\n",
    "            if scoredString not in test_name:\n",
    "                continue\n",
    "            else:\n",
    "                # maintain a new list for test data to store all score file\n",
    "                test_subject_list.append(test_name)\n",
    "                #print(test_subject_list)\n",
    "\n",
    "    # appending those stored trained file into subject list that we can use further for data seperation\n",
    "    new_subject_list = new_subject_list + test_subject_list"
   ]
  },
  {
   "cell_type": "code",
   "execution_count": 13,
   "metadata": {
    "tags": [],
    "pycharm": {
     "name": "#%%\n"
    }
   },
   "outputs": [],
   "source": [
    "    #access the sleep data of subject one by one\n",
    "    for S0_file in new_subject_list:\n",
    "        #print(S0_file)\n",
    "        #Corrupted file for now, #ignoring this file for now, seems like this file is corrupted\n",
    "        #if S0_file =='data/WESA/S005/InterventionPeriod1/EEG/Night14/WESA_EEG_S005_20180617_ML_newfilt_score.mat':\n",
    "        #if S0_file =='data/WESA/S004/InterventionPeriod1/EEG/Night05/WESA_EEG_S004_20180608_ML_newfilt_score.mat': #S0_file == 'data/WESA/S004/InterventionPeriod2/EEG/Night01/WESA_EEG_S004_20180702_ML_newfilt_score.mat': #or : \n",
    "            #continue \n",
    "            \n",
    "        #directly jump to the data & label division on the basis of state\n",
    "        if S0_file in test_subject_list: #testdata_subjects:\n",
    "            state = 1\n",
    "\n",
    "        elif S0_file in valid_subject_list: #validatedata_subjects:\n",
    "            state = 2\n",
    "\n",
    "        else:\n",
    "            state = 0    \n",
    "        \n",
    "        #load data from the .mat file\n",
    "        client.fget_object(\"bmt\", S0_file, \"matfile.mat\")\n",
    "        data = scipy.io.loadmat(\"matfile.mat\", squeeze_me=True)\n",
    "        \n",
    "        #fetch EEG data from all the data keys\n",
    "        EEG = data['FpzA2_filt']\n",
    "        \n",
    "        \n",
    "        # segregating labels from the data file\n",
    "        try: \n",
    "            labels = next(v for k, v in data.items() if k.startswith('sleepStage_score_'))\n",
    "            np.set_printoptions(threshold=np.inf)\n",
    "            #print(labels)\n",
    "        except StopIteration:\n",
    "            print(\"Directory not found\")\n",
    "            exit(2)\n",
    "            \n",
    "            \n",
    "        # calculating the size of the labels\n",
    "        label_size = labels.size\n",
    "        #print(label_size)\n",
    "        \n",
    "        #When LABEL4 appear in the label file:error regarding label4        \n",
    "        for j in range(label_size):\n",
    "            if labels[j] == 4:\n",
    "                labels[j]= labels[j-1]\n",
    "                # print(\"label4 found in the file name:\", S0_file)\n",
    "                # print(\"new corrected labels are:\", labels)\n",
    "                \n",
    "                \n",
    "#         #find out the file which contains label4                \n",
    "#                 #print(\"found the file which contains label4\")\n",
    "#                 count_labels_with4 = count_labels_with4 +1   \n",
    "#                 print(\"total number of  labels with4 is:\", count_labels_with4, \"in the file name:\", S0_file) \n",
    "        \n",
    "#         if (count_labels_with4>0):\n",
    "#             total_files_with_incorrect_label4 = total_files_with_incorrect_label4+1\n",
    "#             print(total_files_with_incorrect_label4)\n",
    "#             #print(\"TO check the label files with 4:\", labels)\n",
    "#             count_labels_with4 = 0 \n",
    "                        \n",
    "        \n",
    "        #trying to replace label5 with label4   \n",
    "        labels[labels==5]=4   \n",
    "        #print(\"labels after changing 5 to 4\", labels)\n",
    "        \n",
    "        #removing the last label from the whole data(the last label is '6' which we do not want to use)\n",
    "        labels = labels[:-1]       \n",
    "        label_size = labels.size\n",
    "        #print(\"Check label size now\", labels.size)\n",
    "        \n",
    "        # #check if there is any other labels\n",
    "        # for j in range(label_size):\n",
    "        #     if (labels[j] > 4): \n",
    "        #         count_new_label_detected = count_new_label_detected + 1\n",
    "        #         print(\"label is :\", labels[j], \"appears\",  count_new_label_detected, \"times in the file name:\", S0_file) \n",
    "        #         #print(\"print labels to find new detected label6:\", labels)\n",
    "\n",
    "        #When LABEL6 appear in the label file:error regarding label6\n",
    "        # #count_new_label_detected = 0\n",
    "        # labels[labels==6]=2 \n",
    "        \n",
    "        #When LABEL6 appear in the label file:error regarding label6        \n",
    "        for j in range(label_size):\n",
    "            if labels[j] == 6:\n",
    "                labels[j]= labels[j-1]\n",
    "                # print(\"label6 found in the file name:\", S0_file)\n",
    "                # print(\"new corrected labels are:\", labels)\n",
    "        \n",
    "        #Reduce labels W=0, NREM = 1, REM =2 to make a MATRIX:3x3\n",
    "        #Change label N2(2)->1 \n",
    "        labels[labels==2]=1\n",
    "        #Change label N3(3)->1 \n",
    "        labels[labels==3]=1\n",
    "        #Change label REM->2 \n",
    "        labels[labels==4]=2\n",
    "        #print(\"Check label after changing it into 3 states:\", labels)\n",
    "        \n",
    "        \n",
    "        #From here we will start the slicing of the data:, making zero array with dimension labels*5000\n",
    "        sliced_data = np.zeros((label_size, 5000))\n",
    "        labels = np.expand_dims(labels, axis=1)\n",
    "          \n",
    "    \n",
    "        #This loop will run, same as the number of labels and fill the slice data with the original data-5000\n",
    "        for j in range(label_size):\n",
    "            index = j * 5000\n",
    "            sliced_data[j, :] = EEG[index:index + 5000]#\n",
    "\n",
    "            \n",
    "        # Divide the data & labels on the basis of subject\n",
    "        if state == 1:           \n",
    "            if EEG_testing_data.size == 0:\n",
    "                EEG_testing_data = sliced_data\n",
    "                EEG_testing_label = labels\n",
    "            else: \n",
    "                EEG_testing_data = np.vstack((EEG_testing_data, sliced_data))\n",
    "                EEG_testing_label = np.append(EEG_testing_label, labels)\n",
    "\n",
    "        elif state == 2:            \n",
    "            if EEG_validation_data.size == 0:\n",
    "                EEG_validation_data = sliced_data\n",
    "                EEG_validation_label = labels\n",
    "            else:\n",
    "                EEG_validation_data = np.vstack((EEG_validation_data, sliced_data))\n",
    "                EEG_validation_label = np.append(EEG_validation_label, labels)\n",
    "        else:           \n",
    "            if EEG_training_data.size == 0:\n",
    "                EEG_training_data = sliced_data\n",
    "                EEG_training_label = labels\n",
    "            else:\n",
    "                EEG_training_data = np.vstack((EEG_training_data, sliced_data))\n",
    "                EEG_training_label = np.append(EEG_training_label, labels)\n"
   ]
  },
  {
   "cell_type": "code",
   "execution_count": 14,
   "metadata": {
    "pycharm": {
     "name": "#%%\n"
    }
   },
   "outputs": [
    {
     "name": "stdout",
     "output_type": "stream",
     "text": [
      "total number of files with label 4 already present: 0\n"
     ]
    }
   ],
   "source": [
    "print(\"total number of files with label 4 already present:\", total_files_with_incorrect_label4)"
   ]
  },
  {
   "cell_type": "code",
   "execution_count": 380,
   "metadata": {
    "pycharm": {
     "name": "#%%\n"
    }
   },
   "outputs": [
    {
     "name": "stdout",
     "output_type": "stream",
     "text": [
      "(119973, 5000, 1)\n",
      "(9326, 5000, 1)\n",
      "(9365, 5000, 1)\n"
     ]
    }
   ],
   "source": [
    "print(EEG_training_data.shape)\n",
    "print(EEG_validation_data.shape)\n",
    "print(EEG_testing_data.shape)"
   ]
  },
  {
   "cell_type": "code",
   "execution_count": 381,
   "metadata": {
    "pycharm": {
     "name": "#%%\n"
    }
   },
   "outputs": [
    {
     "name": "stdout",
     "output_type": "stream",
     "text": [
      "(119973,)\n",
      "(9326,)\n",
      "(9365,)\n"
     ]
    }
   ],
   "source": [
    "print(EEG_training_label.shape)\n",
    "print(EEG_validation_label.shape)\n",
    "print(EEG_testing_label.shape)"
   ]
  },
  {
   "cell_type": "code",
   "execution_count": 382,
   "metadata": {
    "pycharm": {
     "name": "#%%\n"
    }
   },
   "outputs": [
    {
     "name": "stdout",
     "output_type": "stream",
     "text": [
      "(119973, 5000, 1)\n",
      "(9326, 5000, 1)\n",
      "(9365, 5000, 1)\n"
     ]
    }
   ],
   "source": [
    "EEG_training_data = EEG_training_data.reshape(EEG_training_data.shape[0], EEG_training_data.shape[1],1)\n",
    "print(EEG_training_data.shape)\n",
    "EEG_validation_data = EEG_validation_data.reshape(EEG_validation_data.shape[0], EEG_validation_data.shape[1],1)\n",
    "print(EEG_validation_data.shape)\n",
    "EEG_testing_data = EEG_testing_data.reshape(EEG_testing_data.shape[0], EEG_testing_data.shape[1],1)\n",
    "print(EEG_testing_data.shape)"
   ]
  },
  {
   "cell_type": "code",
   "execution_count": 383,
   "metadata": {
    "tags": [],
    "pycharm": {
     "name": "#%%\n"
    }
   },
   "outputs": [],
   "source": [
    "label_class = (np.unique(EEG_training_label))\n",
    "num_classes = label_class.size"
   ]
  },
  {
   "cell_type": "code",
   "execution_count": 384,
   "metadata": {
    "pycharm": {
     "name": "#%%\n"
    }
   },
   "outputs": [
    {
     "name": "stdout",
     "output_type": "stream",
     "text": [
      "{0: 0.9, 1: 1.5, 2: 1.5}\n"
     ]
    }
   ],
   "source": [
    "from sklearn.utils import class_weight \n",
    "# import tracemalloc\n",
    "# tracemalloc.start()\n",
    "\n",
    "\n",
    "class_weights = class_weight.compute_class_weight(\n",
    "                                                   class_weight ='balanced',\n",
    "                                                   classes =np.unique(EEG_training_label), \n",
    "                                                   y= EEG_training_label)\n",
    "\n",
    "# when using no weightage szstem then N2 has heighest performance.\n",
    "#train_class_weights = dict(enumerate(class_weights))# using this N3 has heighest performance\n",
    "#train_class_weights =  dict(zip(np.unique(EEG_training_label), class_weights))# using this W has heighest performance\n",
    "\n",
    "\n",
    "# class_weight_dict= {0: class_weights[0],\n",
    "#                 1: class_weights[1],\n",
    "#                 2: class_weights[2]}\n",
    "# print(class_weight_dict)\n",
    "#{0: 2.409386673093144, 1: 0.49675175454940684, 2: 1.7486226497595103}\n",
    "\n",
    "class_weight_dict= {0: 0.9,\n",
    "                1: 1.5,\n",
    "                2: 1.5}\n",
    "print(class_weight_dict)"
   ]
  },
  {
   "cell_type": "code",
   "execution_count": 385,
   "metadata": {
    "pycharm": {
     "name": "#%%\n"
    }
   },
   "outputs": [],
   "source": [
    "# #define the model using CNN\n",
    "# model = tf.keras.Sequential()\n",
    "# model.add(tf.keras.layers.Conv1D(filters=64, kernel_size= 16, activation='relu', batch_input_shape=(None,5000, 1))) \n",
    "# model.add(tf.keras.layers.Dropout(0.4))\n",
    "# model.add(tf.keras.layers.MaxPool1D(8, padding='same'))\n",
    "# model.add(tf.keras.layers.Flatten())\n",
    "# model.add(tf.keras.layers.Dense(16, activation='relu'))\n",
    "# model.add(tf.keras.layers.Dropout(0.4))\n",
    "# model.add(tf.keras.layers.Dense(num_classes, activation='softmax'))"
   ]
  },
  {
   "cell_type": "code",
   "execution_count": 386,
   "metadata": {
    "pycharm": {
     "name": "#%%\n"
    }
   },
   "outputs": [],
   "source": [
    "# #define the model using CNN\n",
    "# model = tf.keras.Sequential()\n",
    "# model.add(tf.keras.layers.Conv1D(filters=64, kernel_size= 16, activation='relu', batch_input_shape=(None,5000, 1))) \n",
    "# model.add(tf.keras.layers.MaxPool1D(8, padding='same'))\n",
    "# model.add(tf.keras.layers.Conv1D(filters=64, kernel_size= 16, activation='relu', batch_input_shape=(None,5000, 1))) \n",
    "# model.add(tf.keras.layers.MaxPool1D(8, padding='same'))\n",
    "# model.add(tf.keras.layers.Dense(16, activation='relu'))\n",
    "# model.add(tf.keras.layers.MaxPool1D(8, padding='same'))\n",
    "# model.add(tf.keras.layers.Dropout(0.4))\n",
    "# model.add(tf.keras.layers.Flatten())\n",
    "# model.add(tf.keras.layers.Dense(num_classes, activation='softmax'))"
   ]
  },
  {
   "cell_type": "code",
   "execution_count": 387,
   "metadata": {
    "pycharm": {
     "name": "#%%\n"
    }
   },
   "outputs": [],
   "source": [
    "# #define the model using CNN with more maxpool\n",
    "# model = tf.keras.Sequential()\n",
    "# model.add(tf.keras.layers.Conv1D(filters=64, kernel_size= 16, activation='relu', batch_input_shape=(None,5000, 1)))  # input_shape=(5000, 1)\n",
    "# model.add(tf.keras.layers.Dropout(0.4))\n",
    "# model.add(tf.keras.layers.MaxPool1D(8, padding='same'))\n",
    "# model.add(tf.keras.layers.Flatten())\n",
    "# model.add(tf.keras.layers.Dense(16, activation='relu'))\n",
    "# model.add(tf.keras.layers.Dropout(0.4))\n",
    "# model.add(tf.keras.layers.Dense(num_classes, activation='softmax'))"
   ]
  },
  {
   "cell_type": "code",
   "execution_count": 388,
   "metadata": {
    "pycharm": {
     "name": "#%%\n"
    }
   },
   "outputs": [],
   "source": [
    "# #define the model using CNN with lesser layer \n",
    "# model = tf.keras.Sequential()\n",
    "# model.add(tf.keras.layers.Conv1D(filters=64, kernel_size= 16, activation='relu', batch_input_shape=(None,5000, 1)))  # input_shape=(5000, 1)\n",
    "# model.add(tf.keras.layers.Flatten())\n",
    "# model.add(tf.keras.layers.Dense(num_classes, activation='softmax'))"
   ]
  },
  {
   "cell_type": "code",
   "execution_count": 389,
   "metadata": {
    "pycharm": {
     "name": "#%%\n"
    }
   },
   "outputs": [],
   "source": [
    "# #define the model using CNN with lesser layers with maxpool\n",
    "# model = tf.keras.Sequential()\n",
    "# model.add(tf.keras.layers.Conv1D(filters=64, kernel_size= 16, activation='relu', batch_input_shape=(None,5000, 1)))  # input_shape=(5000, 1)\n",
    "# model.add(tf.keras.layers.MaxPool1D(8, padding='same'))\n",
    "# model.add(tf.keras.layers.Flatten())\n",
    "# model.add(tf.keras.layers.Dense(num_classes, activation='softmax'))"
   ]
  },
  {
   "cell_type": "code",
   "execution_count": 390,
   "metadata": {
    "pycharm": {
     "name": "#%%\n"
    }
   },
   "outputs": [],
   "source": [
    "# #define the model using GRU without early stopping\n",
    "# model = tf.keras.Sequential()\n",
    "# model.add(tf.keras.layers.GRU(50, batch_input_shape=(None,5000, 1))) \n",
    "# #model.add(tf.keras.layers.GRU(50, batch_input_shape=(None,5000, 1))) \n",
    "# model.add(tf.keras.layers.Dropout(0.2))\n",
    "# model.add(tf.keras.layers.Dense(num_classes, activation='softmax'))"
   ]
  },
  {
   "cell_type": "code",
   "execution_count": 391,
   "metadata": {
    "tags": [],
    "pycharm": {
     "name": "#%%\n"
    }
   },
   "outputs": [],
   "source": [
    "# #define the model using CNN+ RNN\n",
    "# model = tf.keras.Sequential()\n",
    "# model.add(tf.keras.layers.Conv1D(filters=8, kernel_size= 4, activation='relu', batch_input_shape=(None,5000, 1)))  # input_shape=(5000, 1)\n",
    "# #model.add(tf.keras.layers.MaxPool1D(4, padding='same'))\n",
    "# model.add(tf.keras.layers.GRU(30, return_sequences=False, dropout=0.2))\n",
    "# model.add(tf.keras.layers.Dense(num_classes, activation='softmax'))"
   ]
  },
  {
   "cell_type": "code",
   "execution_count": 392,
   "metadata": {
    "pycharm": {
     "name": "#%%\n"
    }
   },
   "outputs": [],
   "source": [
    "# #define the model using CNN simplified\n",
    "# model = tf.keras.Sequential()\n",
    "# model.add(tf.keras.layers.Conv1D(filters=64, kernel_size= 16, activation='relu', batch_input_shape=(None,5000, 1)))  # input_shape=(5000, 1)\n",
    "# model.add(tf.keras.layers.MaxPool1D(3, padding='same'))\n",
    "# model.add(tf.keras.layers.Dropout(0.2))\n",
    "# model.add(tf.keras.layers.MaxPool1D(3, padding='same'))\n",
    "# model.add(tf.keras.layers.Flatten())\n",
    "# model.add(tf.keras.layers.Dense(16, activation='relu'))\n",
    "# model.add(tf.keras.layers.Dropout(0.2))\n",
    "# model.add(tf.keras.layers.Dense(num_classes, activation='softmax'))"
   ]
  },
  {
   "cell_type": "code",
   "execution_count": 393,
   "metadata": {
    "pycharm": {
     "name": "#%%\n"
    }
   },
   "outputs": [],
   "source": [
    "# #define the model using CNN1: mentioned in Fall detection using sound \n",
    "# model = tf.keras.Sequential()\n",
    "# model.add(tf.keras.layers.Conv1D(filters=32, kernel_size= 3, activation='relu', batch_input_shape=(None,5000, 1)))  \n",
    "# model.add(tf.keras.layers.Conv1D(filters=64, kernel_size= 3, activation='relu', batch_input_shape=(None,5000, 1)))  \n",
    "# model.add(tf.keras.layers.MaxPool1D(8, padding='same'))\n",
    "# model.add(tf.keras.layers.Dropout(0.55))\n",
    "# model.add(tf.keras.layers.Flatten())\n",
    "# model.add(tf.keras.layers.Dense(num_classes, activation='softmax'))"
   ]
  },
  {
   "cell_type": "code",
   "execution_count": 394,
   "metadata": {
    "tags": [],
    "pycharm": {
     "name": "#%%\n"
    }
   },
   "outputs": [],
   "source": [
    "# #define the model using CNN2: mentioned as per in anger detection\n",
    "# model = tf.keras.Sequential()\n",
    "# model.add(tf.keras.layers.Conv1D(filters=139, kernel_size= 16, activation='relu', batch_input_shape=(None,5000, 1)))\n",
    "# model.add(tf.keras.layers.MaxPool1D(16, padding='same'))\n",
    "# model.add(tf.keras.layers.Conv1D(filters=70, kernel_size= 32, activation='relu', batch_input_shape=(None,5000, 1)))\n",
    "# model.add(tf.keras.layers.MaxPool1D(32, padding='same'))\n",
    "# model.add(tf.keras.layers.Dropout(0.2))\n",
    "# model.add(tf.keras.layers.Flatten())\n",
    "# model.add(tf.keras.layers.Dense(num_classes, activation='softmax'))"
   ]
  },
  {
   "cell_type": "code",
   "execution_count": 395,
   "metadata": {
    "pycharm": {
     "name": "#%%\n"
    }
   },
   "outputs": [],
   "source": [
    "# #define the model using CNN3: mentioned as per in doc shareb by LUz 1\n",
    "# model = tf.keras.Sequential()\n",
    "# model.add(tf.keras.layers.Conv1D(filters=32, kernel_size= 16, activation='relu', batch_input_shape=(None,5000, 1)))\n",
    "# model.add(tf.keras.layers.MaxPool1D(8, padding='same'))\n",
    "# model.add(tf.keras.layers.Conv1D(filters=16, kernel_size= 8, activation='relu', batch_input_shape=(None,5000, 1)))\n",
    "# model.add(tf.keras.layers.MaxPool1D(8, padding='same'))\n",
    "# model.add(tf.keras.layers.Flatten())\n",
    "# model.add(tf.keras.layers.Dense(num_classes, activation='softmax'))"
   ]
  },
  {
   "cell_type": "code",
   "execution_count": 396,
   "metadata": {
    "pycharm": {
     "name": "#%%\n"
    }
   },
   "outputs": [],
   "source": [
    "# #define the model using CNN4\n",
    "# model = tf.keras.Sequential()\n",
    "# model.add(tf.keras.layers.Conv1D(filters=64, kernel_size= 16, activation='relu', batch_input_shape=(None,5000, 1))) \n",
    "# model.add(tf.keras.layers.Dropout(0.4))\n",
    "# model.add(tf.keras.layers.Dense(16, activation='relu'))\n",
    "# model.add(tf.keras.layers.Flatten())\n",
    "# model.add(tf.keras.layers.Dense(num_classes, activation='softmax'))"
   ]
  },
  {
   "cell_type": "code",
   "execution_count": 397,
   "metadata": {
    "pycharm": {
     "name": "#%%\n"
    }
   },
   "outputs": [],
   "source": [
    "# #define the model using CNN5\n",
    "# model = tf.keras.Sequential()\n",
    "# model.add(tf.keras.layers.Conv1D(filters=128, kernel_size= 16, activation='relu', batch_input_shape=(None,5000, 1)))\n",
    "# model.add(tf.keras.layers.MaxPool1D(8, padding='same'))\n",
    "# model.add(tf.keras.layers.Dropout(0.5))\n",
    "# model.add(tf.keras.layers.Conv1D(filters=128, kernel_size= 16, activation='relu', batch_input_shape=(None,5000, 1)))\n",
    "# model.add(tf.keras.layers.Conv1D(filters=128, kernel_size= 16, activation='relu', batch_input_shape=(None,5000, 1)))\n",
    "# model.add(tf.keras.layers.Conv1D(filters=128, kernel_size= 16, activation='relu', batch_input_shape=(None,5000, 1)))\n",
    "# model.add(tf.keras.layers.MaxPool1D(32, padding='same'))\n",
    "# model.add(tf.keras.layers.Dropout(0.5))\n",
    "# model.add(tf.keras.layers.Flatten())\n",
    "# model.add(tf.keras.layers.Dense(num_classes, activation='softmax'))"
   ]
  },
  {
   "cell_type": "code",
   "execution_count": 398,
   "metadata": {
    "pycharm": {
     "name": "#%%\n"
    }
   },
   "outputs": [],
   "source": [
    "# #define the model using CNN6: Frugal Edge devices\n",
    "# model = tf.keras.Sequential()\n",
    "# model.add(tf.keras.layers.Conv1D(filters=32, kernel_size= 16, activation='relu', batch_input_shape=(None,5000, 1)))\n",
    "# model.add(tf.keras.layers.Dense(8, activation='relu'))\n",
    "# model.add(tf.keras.layers.Dense(8, activation='relu'))\n",
    "# model.add(tf.keras.layers.Dense(8, activation='relu'))\n",
    "# model.add(tf.keras.layers.Dense(8, activation='relu'))\n",
    "# model.add(tf.keras.layers.Dense(8, activation='relu'))\n",
    "# model.add(tf.keras.layers.Dense(8, activation='relu'))\n",
    "# model.add(tf.keras.layers.Dense(8, activation='relu'))\n",
    "# model.add(tf.keras.layers.Dense(8, activation='relu'))\n",
    "# model.add(tf.keras.layers.Flatten())\n",
    "# model.add(tf.keras.layers.Dense(num_classes, activation='softmax'))"
   ]
  },
  {
   "cell_type": "code",
   "execution_count": 399,
   "metadata": {
    "pycharm": {
     "name": "#%%\n"
    }
   },
   "outputs": [],
   "source": [
    "# #define the model using CNN7: R-CNN\n",
    "# model = tf.keras.Sequential()\n",
    "# model.add(tf.keras.layers.Conv1D(filters=128, kernel_size= 16, activation='relu', batch_input_shape=(None,5000, 1)))\n",
    "# model.add(tf.keras.layers.Conv1D(filters=128, kernel_size= 16, activation='relu', batch_input_shape=(None,5000, 1)))\n",
    "# model.add(tf.keras.layers.MaxPool1D(8, padding='same'))\n",
    "# model.add(tf.keras.layers.Conv1D(filters=128, kernel_size= 16, activation='relu', batch_input_shape=(None,5000, 1)))\n",
    "# model.add(tf.keras.layers.Conv1D(filters=128, kernel_size= 16, activation='relu', batch_input_shape=(None,5000, 1)))\n",
    "# model.add(tf.keras.layers.MaxPool1D(8, padding='same'))\n",
    "# model.add(tf.keras.layers.Conv1D(filters=128, kernel_size= 16, activation='relu', batch_input_shape=(None,5000, 1)))\n",
    "# model.add(tf.keras.layers.Conv1D(filters=128, kernel_size= 16, activation='relu', batch_input_shape=(None,5000, 1)))\n",
    "# model.add(tf.keras.layers.MaxPool1D(16, padding='same'))\n",
    "# model.add(tf.keras.layers.Flatten())\n",
    "# model.add(tf.keras.layers.Dense(16, activation='relu'))\n",
    "# model.add(tf.keras.layers.Dense(16, activation='relu'))\n",
    "# model.add(tf.keras.layers.Dense(num_classes, activation='softmax'))"
   ]
  },
  {
   "cell_type": "code",
   "execution_count": 400,
   "metadata": {
    "pycharm": {
     "name": "#%%\n"
    }
   },
   "outputs": [],
   "source": [
    "# #define the model using CNN7: R-CNN\n",
    "# model = tf.keras.Sequential()\n",
    "# model.add(tf.keras.layers.Conv1D(filters=32, kernel_size= 16, activation='relu', batch_input_shape=(None,5000, 1)))"
   ]
  },
  {
   "cell_type": "code",
   "execution_count": 401,
   "metadata": {
    "pycharm": {
     "name": "#%%\n"
    }
   },
   "outputs": [],
   "source": [
    "# #Combining CNN3 +CNN4\n",
    "# model = tf.keras.Sequential()\n",
    "# model.add(tf.keras.layers.Conv1D(filters=32, kernel_size= 16, activation='relu', batch_input_shape=(None,5000, 1)))\n",
    "# model.add(tf.keras.layers.MaxPool1D(4, padding='same'))\n",
    "# model.add(tf.keras.layers.Conv1D(filters=16, kernel_size= 8, activation='relu', batch_input_shape=(None,5000, 1)))\n",
    "# model.add(tf.keras.layers.MaxPool1D(4, padding='same'))\n",
    "# model.add(tf.keras.layers.Conv1D(filters=8, kernel_size= 4, activation='relu', batch_input_shape=(None,5000, 1)))\n",
    "# model.add(tf.keras.layers.MaxPool1D(4, padding='same'))\n",
    "# #model.add(tf.keras.layers.Dropout(0.2))\n",
    "# model.add(tf.keras.layers.Dense(16, activation='relu'))\n",
    "# model.add(tf.keras.layers.Flatten())\n",
    "# model.add(tf.keras.layers.Dense(num_classes, activation='softmax'))"
   ]
  },
  {
   "cell_type": "code",
   "execution_count": 402,
   "metadata": {
    "pycharm": {
     "name": "#%%\n"
    }
   },
   "outputs": [],
   "source": [
    "# #Combining CNN8: CNN + RNN LSTM\n",
    "# model = tf.keras.Sequential()\n",
    "# model.add(tf.keras.layers.Conv1D(filters=32, kernel_size= 16, activation='relu', batch_input_shape=(None,5000, 1)))\n",
    "# model.add(tf.keras.layers.MaxPool1D(4, padding='same'))\n",
    "# model.add(tf.keras.layers.LSTM(units=30, return_sequences=True))\n",
    "# model.add(tf.keras.layers.LSTM(units=30, return_sequences=True))\n",
    "# model.add(tf.keras.layers.Flatten())\n",
    "# model.add(tf.keras.layers.Dense(num_classes, activation='softmax'))"
   ]
  },
  {
   "cell_type": "code",
   "execution_count": 403,
   "metadata": {
    "pycharm": {
     "name": "#%%\n"
    }
   },
   "outputs": [],
   "source": [
    "# #LSTM model ????????????????????????\n",
    "# model = tf.keras.Sequential()\n",
    "# model.add(tf.keras.layers.Conv1D(filters=32, kernel_size= 16, activation='relu', batch_input_shape=(None,5000, 1)))\n",
    "# model.add(tf.keras.layers.LSTM(units=3, return_sequences=True))\n",
    "# model.add(tf.keras.layers.LSTM(units=3, return_sequences=True))\n",
    "# model.add(tf.keras.layers.Dropout(0.2))\n",
    "# # model.add(tf.keras.layers.LSTM(units=70, return_sequences=True))\n",
    "# # model.add(tf.keras.layers.Dropout(0.2))\n",
    "# #model.add(tf.keras.layers.Dense(num_classes, activation='softmax'))\n",
    "\n",
    "# # batch_input_shape = (None,5000, 1)\n",
    "# model.build(input_shape=batch_input_shape)"
   ]
  },
  {
   "cell_type": "code",
   "execution_count": 404,
   "metadata": {
    "pycharm": {
     "name": "#%%\n"
    }
   },
   "outputs": [],
   "source": [
    "# #Combining CNN9: activity tracking of Elderly people\n",
    "# model = tf.keras.Sequential()\n",
    "# model.add(tf.keras.layers.Conv1D(filters=128, kernel_size= 8, activation='relu', batch_input_shape=(None,5000, 1)))\n",
    "# model.add(tf.keras.layers.Conv1D(filters=128, kernel_size= 8, activation='relu', batch_input_shape=(None,5000, 1)))\n",
    "# model.add(tf.keras.layers.Flatten())\n",
    "# model.add(tf.keras.layers.Dropout(0.25))\n",
    "# model.add(tf.keras.layers.Dense(num_classes, activation='softmax'))"
   ]
  },
  {
   "cell_type": "code",
   "execution_count": 405,
   "metadata": {
    "pycharm": {
     "name": "#%%\n"
    }
   },
   "outputs": [],
   "source": [
    "# #Combining CNN10:Beehive Project\n",
    "# model = tf.keras.Sequential()\n",
    "# model.add(tf.keras.layers.Conv1D(filters=128, kernel_size= 32, activation='relu', batch_input_shape=(None,5000, 1)))\n",
    "# model.add(tf.keras.layers.Conv1D(filters=128, kernel_size= 32, activation='relu', batch_input_shape=(None,5000, 1)))\n",
    "# model.add(tf.keras.layers.Dropout(0.25))\n",
    "# model.add(tf.keras.layers.Dense(64, activation='relu'))\n",
    "# model.add(tf.keras.layers.Dropout(0.25))\n",
    "# model.add(tf.keras.layers.Flatten())\n",
    "# model.add(tf.keras.layers.Dense(num_classes, activation='softmax'))\n",
    "\n",
    "\n",
    "# #InputLayer(input_shape=input_shape))"
   ]
  },
  {
   "cell_type": "code",
   "execution_count": 406,
   "metadata": {
    "pycharm": {
     "name": "#%%\n"
    }
   },
   "outputs": [],
   "source": [
    "# #Combining CNN3 +CNN4+CNN10\n",
    "# model = tf.keras.Sequential()\n",
    "# model.add(tf.keras.layers.Conv1D(filters=128, kernel_size= 3, activation='relu', batch_input_shape=(None,5000, 1)))\n",
    "# model.add(tf.keras.layers.MaxPool1D(4, padding='same'))\n",
    "# model.add(tf.keras.layers.Conv1D(filters=128, kernel_size= 3, activation='relu', batch_input_shape=(None,5000, 1)))\n",
    "# model.add(tf.keras.layers.MaxPool1D(4, padding='same'))\n",
    "# model.add(tf.keras.layers.Conv1D(filters=128, kernel_size= 3, activation='relu', batch_input_shape=(None,5000, 1)))\n",
    "# model.add(tf.keras.layers.MaxPool1D(4, padding='same'))\n",
    "# model.add(tf.keras.layers.Dense(128, activation='relu'))\n",
    "# model.add(tf.keras.layers.Dropout(0.25))\n",
    "# model.add(tf.keras.layers.Dense(128, activation='relu'))\n",
    "# model.add(tf.keras.layers.Dropout(0.25))\n",
    "# model.add(tf.keras.layers.Flatten())\n",
    "# model.add(tf.keras.layers.Dense(num_classes, activation='softmax'))"
   ]
  },
  {
   "cell_type": "code",
   "execution_count": 407,
   "metadata": {
    "pycharm": {
     "name": "#%%\n"
    }
   },
   "outputs": [],
   "source": [
    "# #Combining CNN3 +CNN4 +CNN10:CNN13\n",
    "# model = tf.keras.Sequential()\n",
    "# model.add(tf.keras.layers.Conv1D(filters=128, kernel_size= 32, activation='relu', batch_input_shape=(None,5000, 1)))\n",
    "# model.add(tf.keras.layers.Dropout(0.25))\n",
    "# model.add(tf.keras.layers.Conv1D(filters=128, kernel_size= 32, activation='relu', batch_input_shape=(None,5000, 1)))\n",
    "# model.add(tf.keras.layers.Dropout(0.25))\n",
    "# model.add(tf.keras.layers.Conv1D(filters=128, kernel_size= 32, activation='relu', batch_input_shape=(None,5000, 1)))\n",
    "# model.add(tf.keras.layers.Dropout(0.25))\n",
    "# model.add(tf.keras.layers.Conv1D(filters=128, kernel_size= 32, activation='relu', batch_input_shape=(None,5000, 1)))\n",
    "# model.add(tf.keras.layers.Dropout(0.25))\n",
    "# model.add(tf.keras.layers.Dense(64, activation='relu'))\n",
    "# model.add(tf.keras.layers.Dropout(0.25))\n",
    "# model.add(tf.keras.layers.Dense(64, activation='relu'))\n",
    "# model.add(tf.keras.layers.Dropout(0.25))\n",
    "# model.add(tf.keras.layers.Dense(64, activation='relu'))\n",
    "# model.add(tf.keras.layers.Flatten())\n",
    "# model.add(tf.keras.layers.Dense(num_classes, activation='softmax'))"
   ]
  },
  {
   "cell_type": "code",
   "execution_count": 408,
   "metadata": {
    "pycharm": {
     "name": "#%%\n"
    }
   },
   "outputs": [],
   "source": [
    "#Combining CNN11: SNoring Classification example\n",
    "model = tf.keras.Sequential()\n",
    "model.add(tf.keras.layers.Conv1D(filters=64, kernel_size= 64, activation='relu', batch_input_shape=(None,5000, 1)))\n",
    "model.add(tf.keras.layers.Conv1D(filters=64, kernel_size= 64, activation='relu', batch_input_shape=(None,5000, 1)))\n",
    "model.add(tf.keras.layers.MaxPool1D(8, padding='same'))\n",
    "model.add(tf.keras.layers.Conv1D(filters=64, kernel_size= 64, activation='relu', batch_input_shape=(None,5000, 1)))\n",
    "model.add(tf.keras.layers.Conv1D(filters=64, kernel_size= 64, activation='relu', batch_input_shape=(None,5000, 1)))\n",
    "model.add(tf.keras.layers.MaxPool1D(8, padding='same'))\n",
    "model.add(tf.keras.layers.Flatten())\n",
    "model.add(tf.keras.layers.Dense(8, activation='relu'))\n",
    "model.add(tf.keras.layers.Dropout(0.6))\n",
    "model.add(tf.keras.layers.Dense(8, activation='relu'))\n",
    "model.add(tf.keras.layers.Dropout(0.6))\n",
    "model.add(tf.keras.layers.Dense(num_classes, activation='softmax'))"
   ]
  },
  {
   "cell_type": "code",
   "execution_count": 409,
   "metadata": {
    "pycharm": {
     "name": "#%%\n"
    }
   },
   "outputs": [],
   "source": [
    "# from keras.layers import Concatenate, Dense, Input\n",
    "# from keras import Model\n",
    "\n",
    "# model = tf.keras.Sequential()\n",
    "\n",
    "# input1 = Input(118612,5000, 1)\n",
    "# model_1D.add(tf.keras.layers.Conv1D(filters=128, kernel_size= 64, activation='relu', batch_input_shape=(None,5000, 1)))\n",
    "# model_1D.add(tf.keras.layers.MaxPool1D(8, padding='same'))\n",
    "# model_1D.add(tf.keras.layers.Dropout(0.50))\n",
    "# model_1D.add(tf.keras.layers.Conv1D(filters=128, kernel_size= 8, activation='relu', batch_input_shape=(None,5000, 1)))\n",
    "# model_1D.add(tf.keras.layers.Conv1D(filters=128, kernel_size= 8, activation='relu', batch_input_shape=(None,5000, 1)))\n",
    "# model_1D.add(tf.keras.layers.Conv1D(filters=128, kernel_size= 8, activation='relu', batch_input_shape=(None,5000, 1)))\n",
    "# model_1D.add(tf.keras.layers.MaxPool1D(4, padding='same'))\n",
    "# model_1D.add(tf.keras.layers.Flatten())\n",
    "# model_1D.add(tf.keras.layers.Dense(num_classes, activation='softmax'))\n",
    "\n",
    "# input2 = Input(118612,5000, 1)\n",
    "# model_1D2.add(tf.keras.layers.Conv1D(filters=1000, kernel_size= 64, activation='relu', batch_input_shape=(None,5000, 1)))\n",
    "# model_1D2.add(tf.keras.layers.MaxPool1D(4, padding='same'))\n",
    "# model_1D2.add(tf.keras.layers.Dropout(0.50))\n",
    "# model_1D2.add(tf.keras.layers.Conv1D(filters=128, kernel_size= 6, activation='relu', batch_input_shape=(None,5000, 1)))\n",
    "# model_1D2.add(tf.keras.layers.Conv1D(filters=128, kernel_size= 6, activation='relu', batch_input_shape=(None,5000, 1)))\n",
    "# model_1D2.add(tf.keras.layers.Conv1D(filters=128, kernel_size= 6, activation='relu', batch_input_shape=(None,5000, 1)))\n",
    "# model_1D2.add(tf.keras.layers.MaxPool1D(2, padding='same'))\n",
    "# model_1D2.add(tf.keras.layers.Flatten())\n",
    "# model_1D2.add(tf.keras.layers.Dense(num_classes, activation='softmax'))\n",
    "\n",
    "# merged = Concatenate([model_1D, model_1D2])\n",
    "# output = Dense(num_classes, activation='softmax')(merged)\n",
    "# model = Model(outputs=output)"
   ]
  },
  {
   "cell_type": "code",
   "execution_count": 410,
   "metadata": {
    "pycharm": {
     "name": "#%%\n"
    }
   },
   "outputs": [],
   "source": [
    "# #Combining CNN11: Modified example\n",
    "# model = tf.keras.Sequential()\n",
    "# model.add(tf.keras.layers.Conv1D(filters=64, kernel_size= 32, activation='relu', batch_input_shape=(None,5000, 1)))\n",
    "# model.add(tf.keras.layers.Conv1D(filters=64, kernel_size= 32, activation='relu', batch_input_shape=(None,5000, 1)))\n",
    "# model.add(tf.keras.layers.Conv1D(filters=32, kernel_size= 32, activation='relu', batch_input_shape=(None,5000, 1)))\n",
    "# model.add(tf.keras.layers.MaxPool1D(16, padding='same'))\n",
    "# model.add(tf.keras.layers.Conv1D(filters=64, kernel_size= 32, activation='relu', batch_input_shape=(None,5000, 1)))\n",
    "# model.add(tf.keras.layers.Conv1D(filters=64, kernel_size= 32, activation='relu', batch_input_shape=(None,5000, 1)))\n",
    "# model.add(tf.keras.layers.Conv1D(filters=32, kernel_size= 32, activation='relu', batch_input_shape=(None,5000, 1)))\n",
    "# model.add(tf.keras.layers.Dropout(0.5))\n",
    "# model.add(tf.keras.layers.Conv1D(filters=64, kernel_size= 32, activation='relu', batch_input_shape=(None,5000, 1)))\n",
    "# model.add(tf.keras.layers.Conv1D(filters=64, kernel_size= 32, activation='relu', batch_input_shape=(None,5000, 1)))\n",
    "# model.add(tf.keras.layers.Conv1D(filters=32, kernel_size= 32, activation='relu', batch_input_shape=(None,5000, 1)))\n",
    "# model.add(tf.keras.layers.MaxPool1D(16, padding='same'))\n",
    "# model.add(tf.keras.layers.Dense(64, activation='relu'))\n",
    "# model.add(tf.keras.layers.ReLU(0.6))\n",
    "# model.add(tf.keras.layers.Dense(64, activation='relu'))\n",
    "# model.add(tf.keras.layers.ReLU(0.6))\n",
    "# model.add(tf.keras.layers.Dense(32, activation='relu'))\n",
    "# model.add(tf.keras.layers.ReLU(0.6))\n",
    "# model.add(tf.keras.layers.Flatten())\n",
    "# model.add(tf.keras.layers.Dense(64, activation='relu'))\n",
    "# model.add(tf.keras.layers.Dense(32, activation='relu'))\n",
    "# model.add(tf.keras.layers.Dense(32, activation='relu'))\n",
    "# model.add(tf.keras.layers.Dense(32, activation='relu'))\n",
    "# model.add(tf.keras.layers.Dense(32, activation='relu'))\n",
    "# model.add(tf.keras.layers.Dense(num_classes, activation='softmax'))"
   ]
  },
  {
   "cell_type": "code",
   "execution_count": 411,
   "metadata": {
    "pycharm": {
     "name": "#%%\n"
    }
   },
   "outputs": [
    {
     "name": "stdout",
     "output_type": "stream",
     "text": [
      "Model: \"sequential_9\"\n",
      "_________________________________________________________________\n",
      "Layer (type)                 Output Shape              Param #   \n",
      "=================================================================\n",
      "conv1d_36 (Conv1D)           (None, 4937, 64)          4160      \n",
      "_________________________________________________________________\n",
      "conv1d_37 (Conv1D)           (None, 4874, 64)          262208    \n",
      "_________________________________________________________________\n",
      "max_pooling1d_18 (MaxPooling (None, 610, 64)           0         \n",
      "_________________________________________________________________\n",
      "conv1d_38 (Conv1D)           (None, 547, 64)           262208    \n",
      "_________________________________________________________________\n",
      "conv1d_39 (Conv1D)           (None, 484, 64)           262208    \n",
      "_________________________________________________________________\n",
      "max_pooling1d_19 (MaxPooling (None, 61, 64)            0         \n",
      "_________________________________________________________________\n",
      "flatten_8 (Flatten)          (None, 3904)              0         \n",
      "_________________________________________________________________\n",
      "dense_27 (Dense)             (None, 8)                 31240     \n",
      "_________________________________________________________________\n",
      "dropout (Dropout)            (None, 8)                 0         \n",
      "_________________________________________________________________\n",
      "dense_28 (Dense)             (None, 8)                 72        \n",
      "_________________________________________________________________\n",
      "dropout_1 (Dropout)          (None, 8)                 0         \n",
      "_________________________________________________________________\n",
      "dense_29 (Dense)             (None, 3)                 27        \n",
      "=================================================================\n",
      "Total params: 822,123\n",
      "Trainable params: 822,123\n",
      "Non-trainable params: 0\n",
      "_________________________________________________________________\n"
     ]
    }
   ],
   "source": [
    "#Summary of the model defined:\n",
    "model.summary()"
   ]
  },
  {
   "cell_type": "code",
   "execution_count": 412,
   "metadata": {
    "pycharm": {
     "name": "#%%\n"
    }
   },
   "outputs": [],
   "source": [
    "#Define loss function\n",
    "optimizer = tf.keras.optimizers.Adam(learning_rate=0.001)\n",
    "\n",
    "model.compile(\n",
    "                      loss=  'categorical_crossentropy', # 'sparse_categorical_crossentropy',\n",
    "                      optimizer= optimizer, #'SGD', 'adam', #\n",
    "                      metrics=[tf.keras.metrics.FalseNegatives(), tf.keras.metrics.FalsePositives(), 'accuracy'])"
   ]
  },
  {
   "cell_type": "code",
   "execution_count": 413,
   "metadata": {
    "pycharm": {
     "name": "#%%\n"
    }
   },
   "outputs": [],
   "source": [
    "#one Hot Encoding\n",
    "y_train_hot = tf.keras.utils.to_categorical(EEG_training_label, num_classes)\n",
    "#print('New y_train shape: ', y_train_hot.shape)\n",
    "\n",
    "y_valid_hot = tf.keras.utils.to_categorical(EEG_validation_label, num_classes)\n",
    "#print('New y_valid shape: ', y_valid_hot.shape)\n"
   ]
  },
  {
   "cell_type": "code",
   "execution_count": 414,
   "metadata": {
    "pycharm": {
     "name": "#%%\n"
    }
   },
   "outputs": [],
   "source": [
    "# patient early stopping\n",
    "from keras.callbacks import EarlyStopping\n",
    "\n",
    "es = EarlyStopping(monitor='val_loss', mode='min', verbose=1, patience=10, restore_best_weights = True)"
   ]
  },
  {
   "cell_type": "code",
   "execution_count": 415,
   "metadata": {
    "tags": [],
    "pycharm": {
     "name": "#%%\n"
    }
   },
   "outputs": [
    {
     "name": "stdout",
     "output_type": "stream",
     "text": [
      "Epoch 1/100\n",
      "1200/1200 [==============================] - 67s 55ms/step - loss: 1.2083 - false_negatives_9: 60028.0000 - false_positives_9: 29456.0000 - accuracy: 0.6706 - val_loss: 0.8218 - val_false_negatives_9: 2950.0000 - val_false_positives_9: 2950.0000 - val_accuracy: 0.6837\n",
      "Epoch 2/100\n",
      "1200/1200 [==============================] - 66s 55ms/step - loss: 1.1133 - false_negatives_9: 39468.0000 - false_positives_9: 39468.0000 - accuracy: 0.6710 - val_loss: 0.8207 - val_false_negatives_9: 2950.0000 - val_false_positives_9: 2950.0000 - val_accuracy: 0.6837\n",
      "Epoch 3/100\n",
      "1200/1200 [==============================] - 66s 55ms/step - loss: 1.1056 - false_negatives_9: 39468.0000 - false_positives_9: 39468.0000 - accuracy: 0.6710 - val_loss: 0.8217 - val_false_negatives_9: 2950.0000 - val_false_positives_9: 2950.0000 - val_accuracy: 0.6837\n",
      "Epoch 4/100\n",
      "1200/1200 [==============================] - 66s 55ms/step - loss: 1.1048 - false_negatives_9: 39468.0000 - false_positives_9: 39468.0000 - accuracy: 0.6710 - val_loss: 0.8218 - val_false_negatives_9: 2950.0000 - val_false_positives_9: 2950.0000 - val_accuracy: 0.6837\n",
      "Epoch 5/100\n",
      "1200/1200 [==============================] - 66s 55ms/step - loss: 1.1048 - false_negatives_9: 39468.0000 - false_positives_9: 39468.0000 - accuracy: 0.6710 - val_loss: 0.8221 - val_false_negatives_9: 2950.0000 - val_false_positives_9: 2950.0000 - val_accuracy: 0.6837\n",
      "Epoch 6/100\n",
      "1200/1200 [==============================] - 66s 55ms/step - loss: 1.1047 - false_negatives_9: 39468.0000 - false_positives_9: 39468.0000 - accuracy: 0.6710 - val_loss: 0.8216 - val_false_negatives_9: 2950.0000 - val_false_positives_9: 2950.0000 - val_accuracy: 0.6837\n",
      "Epoch 7/100\n",
      "1200/1200 [==============================] - 66s 55ms/step - loss: 1.1048 - false_negatives_9: 39468.0000 - false_positives_9: 39468.0000 - accuracy: 0.6710 - val_loss: 0.8219 - val_false_negatives_9: 2950.0000 - val_false_positives_9: 2950.0000 - val_accuracy: 0.6837\n",
      "Epoch 8/100\n",
      "1200/1200 [==============================] - 66s 55ms/step - loss: 1.1047 - false_negatives_9: 39468.0000 - false_positives_9: 39468.0000 - accuracy: 0.6710 - val_loss: 0.8224 - val_false_negatives_9: 2950.0000 - val_false_positives_9: 2950.0000 - val_accuracy: 0.6837\n",
      "Epoch 9/100\n",
      "1200/1200 [==============================] - 66s 55ms/step - loss: 1.1047 - false_negatives_9: 39468.0000 - false_positives_9: 39468.0000 - accuracy: 0.6710 - val_loss: 0.8215 - val_false_negatives_9: 2950.0000 - val_false_positives_9: 2950.0000 - val_accuracy: 0.6837\n",
      "Epoch 10/100\n",
      "1200/1200 [==============================] - 66s 55ms/step - loss: 1.1047 - false_negatives_9: 39468.0000 - false_positives_9: 39468.0000 - accuracy: 0.6710 - val_loss: 0.8216 - val_false_negatives_9: 2950.0000 - val_false_positives_9: 2950.0000 - val_accuracy: 0.6837\n",
      "Epoch 11/100\n",
      "1200/1200 [==============================] - 66s 55ms/step - loss: 1.1047 - false_negatives_9: 39468.0000 - false_positives_9: 39468.0000 - accuracy: 0.6710 - val_loss: 0.8215 - val_false_negatives_9: 2950.0000 - val_false_positives_9: 2950.0000 - val_accuracy: 0.6837\n",
      "Epoch 12/100\n",
      "1200/1200 [==============================] - 66s 55ms/step - loss: 1.1047 - false_negatives_9: 39468.0000 - false_positives_9: 39468.0000 - accuracy: 0.6710 - val_loss: 0.8217 - val_false_negatives_9: 2950.0000 - val_false_positives_9: 2950.0000 - val_accuracy: 0.6837\n",
      "Restoring model weights from the end of the best epoch.\n",
      "Epoch 00012: early stopping\n"
     ]
    }
   ],
   "source": [
    "# apply fit on data\n",
    "import keras.callbacks\n",
    "\n",
    "history = model.fit(\n",
    "                            x=EEG_training_data,\n",
    "                            y=y_train_hot,\n",
    "                            batch_size=100,\n",
    "                            epochs=100, \n",
    "                            validation_data=(EEG_validation_data, y_valid_hot),\n",
    "                            class_weight = class_weight_dict,\n",
    "                            callbacks = [es]\n",
    "                             )"
   ]
  },
  {
   "cell_type": "code",
   "execution_count": 416,
   "metadata": {
    "pycharm": {
     "name": "#%%\n"
    }
   },
   "outputs": [
    {
     "data": {
      "image/png": "[encoded data removed]",
      "text/plain": [
       "<Figure size 432x288 with 1 Axes>"
      ]
     },
     "metadata": {
      "needs_background": "light"
     },
     "output_type": "display_data"
    },
    {
     "data": {
      "image/png": "[encoded data removed]",
      "text/plain": [
       "<Figure size 432x288 with 1 Axes>"
      ]
     },
     "metadata": {
      "needs_background": "light"
     },
     "output_type": "display_data"
    }
   ],
   "source": [
    "# plot training history\n",
    "from matplotlib import pyplot\n",
    "#Plot the graph for training loss vs validation loss\n",
    "pyplot.plot(history.history['loss'], label='training loss')\n",
    "pyplot.plot(history.history['val_loss'], label='validation loss')\n",
    "pyplot.legend()\n",
    "pyplot.show()\n",
    "\n",
    "#Plot the graph for training accuracy vs validation accuracy\n",
    "pyplot.plot(history.history['accuracy'], label='training accuracy')\n",
    "pyplot.plot(history.history['val_accuracy'], label='validation accuracy')\n",
    "pyplot.legend()\n",
    "pyplot.show()"
   ]
  },
  {
   "cell_type": "code",
   "execution_count": 417,
   "metadata": {
    "pycharm": {
     "name": "#%%\n"
    }
   },
   "outputs": [
    {
     "name": "stdout",
     "output_type": "stream",
     "text": [
      "(9365,)\n",
      "New y_test shape:  (9365, 3)\n"
     ]
    }
   ],
   "source": [
    "print(EEG_testing_label.shape)\n",
    "y_test_hot = tf.keras.utils.to_categorical(EEG_testing_label, num_classes)\n",
    "print('New y_test shape: ', y_test_hot.shape)"
   ]
  },
  {
   "cell_type": "code",
   "execution_count": 418,
   "metadata": {
    "pycharm": {
     "name": "#%%\n"
    }
   },
   "outputs": [
    {
     "name": "stdout",
     "output_type": "stream",
     "text": [
      "[[   0 1788    0]\n",
      " [   0 5746    0]\n",
      " [   0 1831    0]]\n",
      "(3, 3)\n"
     ]
    }
   ],
   "source": [
    "# testing accuracy on validation data\n",
    "model_prediction = model.predict(EEG_testing_data)\n",
    "predicted_matrix = tf.math.confusion_matrix(labels=y_test_hot.argmax(axis=1), predictions=model_prediction.argmax(axis=1)).numpy()\n",
    "print(predicted_matrix)\n",
    "print(predicted_matrix.shape)"
   ]
  },
  {
   "cell_type": "code",
   "execution_count": 419,
   "metadata": {
    "pycharm": {
     "name": "#%%\n"
    }
   },
   "outputs": [
    {
     "name": "stdout",
     "output_type": "stream",
     "text": [
      "[[0. 1. 0.]\n",
      " [0. 1. 0.]\n",
      " [0. 1. 0.]]\n",
      "[   0 1788    0    0 5746    0    0 1831    0]\n"
     ]
    },
    {
     "data": {
      "image/png": "[encoded data removed]",
      "text/plain": [
       "<Figure size 432x288 with 2 Axes>"
      ]
     },
     "metadata": {
      "needs_background": "light"
     },
     "output_type": "display_data"
    }
   ],
   "source": [
    "import seaborn as sns\n",
    "\n",
    "%matplotlib inline\n",
    "# ax = sns.heatmap(predicted_matrix, annot=True, fmt='d')\n",
    "# #f\n",
    "\n",
    "predicted_matrix_percentage = (predicted_matrix.astype('float') / predicted_matrix.sum(axis=1)[:, np.newaxis]) \n",
    "print(predicted_matrix_percentage)\n",
    "\n",
    "group_counts = [\"{0:0.0f}\".format(value) for value in\n",
    "                predicted_matrix.flatten()]\n",
    "print(predicted_matrix.flatten())\n",
    "\n",
    "group_percentages = [\"{0:.2%}\".format(value) for value in\n",
    "                     predicted_matrix_percentage.flatten()]\n",
    "\n",
    "labels = [f\"{v1}\\n{v2}\\n\" for v1, v2 in\n",
    "          zip(group_counts,group_percentages)]\n",
    "labels = np.asarray(labels).reshape(3,3)\n",
    "\n",
    "\n",
    "ax = sns.heatmap(predicted_matrix, annot=labels, fmt='', cmap='magma')\n",
    "\n",
    "\n",
    "\n",
    "ax.set_title('Seaborn Confusion Matrix with labels');\n",
    "ax.set_xlabel('Predicted labels Category')\n",
    "ax.set_ylabel('Actual labels Category ');\n",
    "# \n",
    "## Ticket labels - List must be in alphabetical order\n",
    "ax.xaxis.set_ticklabels(['W','N', 'REM'])\n",
    "ax.yaxis.set_ticklabels(['W','N', 'REM'])\n",
    "\n",
    "## Display the visualization of the Confusion Matrix.\n",
    "plt.show()"
   ]
  },
  {
   "cell_type": "code",
   "execution_count": 420,
   "metadata": {
    "tags": [],
    "pycharm": {
     "name": "#%%\n"
    }
   },
   "outputs": [
    {
     "name": "stdout",
     "output_type": "stream",
     "text": [
      "              precision    recall  f1-score   support\n",
      "\n",
      "           0       0.00      0.00      0.00      1788\n",
      "           1       0.61      1.00      0.76      5746\n",
      "           2       0.00      0.00      0.00      1831\n",
      "\n",
      "    accuracy                           0.61      9365\n",
      "   macro avg       0.20      0.33      0.25      9365\n",
      "weighted avg       0.38      0.61      0.47      9365\n",
      "\n"
     ]
    },
    {
     "name": "stderr",
     "output_type": "stream",
     "text": [
      "/home/omi/.local/lib/python3.8/site-packages/sklearn/metrics/_classification.py:1334: UndefinedMetricWarning: Precision and F-score are ill-defined and being set to 0.0 in labels with no predicted samples. Use `zero_division` parameter to control this behavior.\n",
      "  _warn_prf(average, modifier, msg_start, len(result))\n",
      "/home/omi/.local/lib/python3.8/site-packages/sklearn/metrics/_classification.py:1334: UndefinedMetricWarning: Precision and F-score are ill-defined and being set to 0.0 in labels with no predicted samples. Use `zero_division` parameter to control this behavior.\n",
      "  _warn_prf(average, modifier, msg_start, len(result))\n",
      "/home/omi/.local/lib/python3.8/site-packages/sklearn/metrics/_classification.py:1334: UndefinedMetricWarning: Precision and F-score are ill-defined and being set to 0.0 in labels with no predicted samples. Use `zero_division` parameter to control this behavior.\n",
      "  _warn_prf(average, modifier, msg_start, len(result))\n"
     ]
    }
   ],
   "source": [
    "from sklearn.metrics import classification_report\n",
    "\n",
    "y_true = y_test_hot\n",
    "y_pred= model_prediction \n",
    "\n",
    "y_true=np.argmax(y_true, axis=1)\n",
    "y_pred=np.argmax(y_pred, axis=1)\n",
    "\n",
    "\n",
    "print(classification_report(y_true, y_pred))\n"
   ]
  },
  {
   "cell_type": "code",
   "execution_count": 421,
   "metadata": {
    "tags": [],
    "pycharm": {
     "name": "#%%\n"
    }
   },
   "outputs": [],
   "source": [
    "# #TensorFlow Lite Conversion\n",
    "# converter = tf.lite.TFLiteConverter.from_keras_model(model)\n",
    "# model_tflite = converter.convert()\n",
    "\n",
    "# print(Path('Sleepmodel.tflite').write_bytes(model_tflite))"
   ]
  },
  {
   "cell_type": "code",
   "execution_count": 422,
   "metadata": {
    "pycharm": {
     "name": "#%%\n"
    }
   },
   "outputs": [],
   "source": [
    "# !sudo apt-get update && sudo apt-get -qq install xxd\n",
    "# !xxd -i Sleepmodel.tflite > Sleepmodel_micro.cc\n"
   ]
  },
  {
   "cell_type": "code",
   "execution_count": null,
   "metadata": {
    "pycharm": {
     "name": "#%%\n"
    }
   },
   "outputs": [],
   "source": []
  },
  {
   "cell_type": "code",
   "execution_count": null,
   "metadata": {
    "pycharm": {
     "name": "#%%\n"
    }
   },
   "outputs": [],
   "source": []
  },
  {
   "cell_type": "code",
   "execution_count": null,
   "metadata": {
    "pycharm": {
     "name": "#%%\n"
    }
   },
   "outputs": [],
   "source": []
  },
  {
   "cell_type": "code",
   "execution_count": null,
   "metadata": {
    "pycharm": {
     "name": "#%%\n"
    }
   },
   "outputs": [],
   "source": []
  },
  {
   "cell_type": "code",
   "execution_count": null,
   "metadata": {
    "pycharm": {
     "name": "#%%\n"
    }
   },
   "outputs": [],
   "source": []
  }
 ],
 "metadata": {
  "kernelspec": {
   "display_name": "Python 3",
   "language": "python",
   "name": "python3"
  },
  "language_info": {
   "codemirror_mode": {
    "name": "ipython",
    "version": 3
   },
   "file_extension": ".py",
   "mimetype": "text/x-python",
   "name": "python",
   "nbconvert_exporter": "python",
   "pygments_lexer": "ipython3",
   "version": "3.8.10"
  }
 },
 "nbformat": 4,
 "nbformat_minor": 4
}